{
  "cells": [
    {
      "cell_type": "markdown",
      "source": [
        "You could use this notebook on [Google Colab](https://colab.research.google.com/) with a GPU Hardware Accelerator runtype."
      ],
      "metadata": {
        "id": "84FCh7pFCA2U"
      }
    },
    {
      "cell_type": "markdown",
      "source": [
        "# Bootstrap Model\n"
      ],
      "metadata": {
        "id": "aBeeVTbb_WLL"
      }
    },
    {
      "cell_type": "code",
      "execution_count": null,
      "metadata": {
        "id": "cEOhYxk-ASjw"
      },
      "outputs": [],
      "source": [
        "#Remove Preexisting Files\n",
        "! rm -rf NBA-Machine-Learning-Sports-Betting\n",
        "! rm -rf *\n",
        "\n",
        "#Bootstrap Files\n",
        "! git clone https://github.com/kyleskom/NBA-Machine-Learning-Sports-Betting.git\n",
        "! mv -v ./NBA-Machine-Learning-Sports-Betting/* .\n",
        "\n",
        "#For some reason pip3 install -r requirements.txt doesn't work on Colab\n",
        "! pip3 install colorama==0.4.6\n",
        "! pip3 install sbrscrape==0.0.9\n",
        "! pip3 install pandas==2.1.1\n",
        "! pip3 install tensorflow==2.14.0\n",
        "! pip3 install xgboost==2.0.0\n"
      ]
    },
    {
      "cell_type": "markdown",
      "source": [
        "# Run Model\n"
      ],
      "metadata": {
        "id": "Wurq7KgC_ckH"
      }
    },
    {
      "cell_type": "code",
      "source": [
        "! python3 main.py -xgb -odds=fanduel"
      ],
      "metadata": {
        "id": "QBu_ZuXvNgqR"
      },
      "execution_count": null,
      "outputs": []
    }
  ],
  "metadata": {
    "accelerator": "GPU",
    "colab": {
      "provenance": []
    },
    "gpuClass": "standard",
    "kernelspec": {
      "display_name": "Python 3",
      "name": "python3"
    },
    "language_info": {
      "name": "python"
    }
  },
  "nbformat": 4,
  "nbformat_minor": 0
}
